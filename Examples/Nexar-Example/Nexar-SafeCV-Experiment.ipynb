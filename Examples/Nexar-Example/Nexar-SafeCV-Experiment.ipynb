{
 "cells": [
  {
   "cell_type": "code",
   "execution_count": 1,
   "metadata": {},
   "outputs": [
    {
     "name": "stderr",
     "output_type": "stream",
     "text": [
      "Using TensorFlow backend.\n",
      "/usr/local/lib/python2.7/dist-packages/ipykernel_launcher.py:52: UserWarning: Update your `Conv2D` call to the Keras 2 API: `Conv2D(16, (3, 3), padding=\"same\", strides=(2, 2), activation=\"relu\", input_shape=(112, 112,...)`\n",
      "/usr/local/lib/python2.7/dist-packages/ipykernel_launcher.py:56: UserWarning: Update your `Conv2D` call to the Keras 2 API: `Conv2D(32, (3, 3), padding=\"same\", activation=\"relu\")`\n",
      "/usr/local/lib/python2.7/dist-packages/ipykernel_launcher.py:60: UserWarning: Update your `Conv2D` call to the Keras 2 API: `Conv2D(64, (3, 3), padding=\"same\", activation=\"relu\")`\n"
     ]
    },
    {
     "name": "stdout",
     "output_type": "stream",
     "text": [
      "_________________________________________________________________\n",
      "Layer (type)                 Output Shape              Param #   \n",
      "=================================================================\n",
      "conv2d_1 (Conv2D)            (None, 56, 56, 16)        448       \n",
      "_________________________________________________________________\n",
      "max_pooling2d_1 (MaxPooling2 (None, 18, 18, 16)        0         \n",
      "_________________________________________________________________\n",
      "dropout_1 (Dropout)          (None, 18, 18, 16)        0         \n",
      "_________________________________________________________________\n",
      "conv2d_2 (Conv2D)            (None, 18, 18, 32)        4640      \n",
      "_________________________________________________________________\n",
      "max_pooling2d_2 (MaxPooling2 (None, 6, 6, 32)          0         \n",
      "_________________________________________________________________\n",
      "dropout_2 (Dropout)          (None, 6, 6, 32)          0         \n",
      "_________________________________________________________________\n",
      "conv2d_3 (Conv2D)            (None, 6, 6, 64)          18496     \n",
      "_________________________________________________________________\n",
      "max_pooling2d_3 (MaxPooling2 (None, 3, 3, 64)          0         \n",
      "_________________________________________________________________\n",
      "dropout_3 (Dropout)          (None, 3, 3, 64)          0         \n",
      "_________________________________________________________________\n",
      "flatten_1 (Flatten)          (None, 576)               0         \n",
      "_________________________________________________________________\n",
      "dense_1 (Dense)              (None, 128)               73856     \n",
      "_________________________________________________________________\n",
      "dropout_4 (Dropout)          (None, 128)               0         \n",
      "_________________________________________________________________\n",
      "dense_2 (Dense)              (None, 3)                 387       \n",
      "=================================================================\n",
      "Total params: 97,827\n",
      "Trainable params: 97,827\n",
      "Non-trainable params: 0\n",
      "_________________________________________________________________\n"
     ]
    }
   ],
   "source": [
    "# Define Model\n",
    "\n",
    "import sys\n",
    "sys.path.append('/usr/local/lib/python2.7/site-packages')\n",
    "import os\n",
    "\n",
    "from keras.layers import Dense, Dropout, Flatten, MaxPooling2D, Convolution2D\n",
    "from keras.models import Sequential\n",
    "from keras.preprocessing.image import ImageDataGenerator\n",
    "import keras\n",
    "from keras.optimizers import Adam\n",
    "import csv\n",
    "import cv2\n",
    "import matplotlib.pyplot as plt\n",
    "import gc\n",
    "from tqdm import trange\n",
    "from random import shuffle\n",
    "import numpy as np\n",
    "from keras.utils.np_utils import to_categorical\n",
    "NUM_CHANNELS = 3\n",
    "IMAGE_WIDTH = 112 # Original: 455\n",
    "IMAGE_HEIGHT = 112 # Original: 256\n",
    "NUM_CLASSES = 3\n",
    "\n",
    "def preprocess(img):\n",
    "    size = (IMAGE_WIDTH,IMAGE_HEIGHT)\n",
    "    resized = cv2.resize(img, size)\n",
    "    return resized\n",
    "\n",
    "def load_data(fdir, lfile):\n",
    "    #print(\"LOADING DATA FROM: %s , %s\"%(fdir,lfile))\n",
    "    logs = []\n",
    "    features = []\n",
    "    labels = []\n",
    "    with open(lfile,'rt') as f:\n",
    "        reader = csv.reader(f)\n",
    "        for line in reader:\n",
    "            logs.append(line)\n",
    "        log_labels = logs.pop(0)\n",
    "    \n",
    "    for i in trange(len(logs), desc=\"Loading Data\"):\n",
    "        img_path = logs[i][0]\n",
    "        img = cv2.imread(fdir+img_path)\n",
    "        features.append(preprocess(img))\n",
    "        labels.append(float(logs[i][1]))\n",
    "    return features, labels\n",
    "\n",
    "\n",
    "\n",
    "\n",
    "model = Sequential([\n",
    "                    Convolution2D(16, 3, 3, border_mode='same', subsample=(2, 2), input_shape=(IMAGE_WIDTH, IMAGE_HEIGHT, NUM_CLASSES), activation='relu'),\n",
    "                    MaxPooling2D(pool_size=(3, 3)),\n",
    "                    Dropout(0.2),\n",
    "                    \n",
    "                    Convolution2D(32, 3, 3, border_mode='same', activation='relu'),\n",
    "                    MaxPooling2D(pool_size=(3, 3)),\n",
    "                    Dropout(0.2),\n",
    "                    \n",
    "                    Convolution2D(64, 3, 3, border_mode='same', activation='relu'),\n",
    "                    MaxPooling2D(pool_size=(2, 2)),\n",
    "                    Dropout(0.2),\n",
    "                    \n",
    "                    Flatten(),\n",
    "                    Dense(128, activation='tanh'),\n",
    "                    Dropout(0.3),\n",
    "                    Dense(NUM_CLASSES, activation='softmax'),\n",
    "                    ])\n",
    "\n",
    "model.load_weights('Nexar-Weights.model')\n",
    "\n",
    "model.summary()\n"
   ]
  },
  {
   "cell_type": "code",
   "execution_count": 2,
   "metadata": {},
   "outputs": [
    {
     "name": "stderr",
     "output_type": "stream",
     "text": [
      "Loading Data: 100%|██████████| 18658/18658 [00:14<00:00, 1298.59it/s]\n"
     ]
    }
   ],
   "source": [
    "features_directory = './data/'\n",
    "labels_file = './data/labels.csv'\n",
    "\n",
    "features, labels = load_data(features_directory, labels_file)\n",
    "\n",
    "features = np.array(features).astype('float32')\n",
    "labels = np.array(labels).astype('float32')\n",
    "\n",
    "train_features = features[:16792]\n",
    "train_labels = labels[:16792]\n",
    "\n",
    "test_features = features[16793:]\n",
    "test_labels = labels[16793:]\n"
   ]
  },
  {
   "cell_type": "code",
   "execution_count": null,
   "metadata": {},
   "outputs": [],
   "source": [
    "import matplotlib.pyplot as plt\n",
    "#print(\"BEST ADVERSARIAL EXAMPLE:\")\n",
    "def log_image(best_image, sev, prob, statistics, image_num, true_class):\n",
    "    base_name = \"NEXAR-%s\"%(image_num)\n",
    "    \n",
    "    prob = model.predict(best_image.reshape(1,112,112,3))\n",
    "    new_class = np.argmax(prob[0])\n",
    "    new_prob = prob[0][np.argmax(prob)]\n",
    "    \n",
    "    best_image = cv2.cvtColor(best_image, cv2.COLOR_BGR2RGB)\n",
    "    \n",
    "    plt.imshow(best_image)\n",
    "    plt.savefig(\"Nexar-Adv/%s-Originally-%s-PredictedAs-%s-withConfidence-%s-L0-%s-L2-%s.jpg\"%(base_name, true_class, new_class, new_prob, sev[0], sev[2] ))           \n",
    "    prob = model.predict(best_image.reshape(1,112,112,3))\n",
    "    new_class = np.argmax(prob[0])\n",
    "    new_prob = prob[0][np.argmax(prob)]\n",
    "    #print(\"True class: %s; Predicted as: %s with confidence: %s; After %s manipulations\"%(cls, new_class, new_prob, sev ))\n",
    "    plt.clf()\n",
    "    \n",
    "    a, = plt.plot(statistics[0], label=\"Min Severity Found\")\n",
    "    b, = plt.plot(statistics[1], label=\"Severity per Iteration\")\n",
    "    c, = plt.plot(statistics[2], label=\"Rolling Average Severity\")\n",
    "    plt.legend(handles=[a,b,c], loc='center left', bbox_to_anchor=(1, 0.5))\n",
    "    plt.title(\"Single Run MCTS Statisitcs\")\n",
    "    plt.xlabel(\"Iteration\")\n",
    "    plt.ylabel(\"L_0 Severity\")\n",
    "    plt.savefig(\"Nexar-Stat/%s-Originally-%s-PredictedAs-%s-withConfidence-%s-L0-%s-L2-%s.jpg\"%(base_name, true_class, new_class, new_prob, sev[0], sev[2] ))           \n",
    "   "
   ]
  },
  {
   "cell_type": "code",
   "execution_count": null,
   "metadata": {},
   "outputs": [
    {
     "name": "stderr",
     "output_type": "stream",
     "text": [
      " 29%|██▉       | 291/1000 [01:28<03:35,  3.29it/s]"
     ]
    },
    {
     "name": "stdout",
     "output_type": "stream",
     "text": [
      "Error...\n"
     ]
    },
    {
     "name": "stderr",
     "output_type": "stream",
     "text": [
      " 36%|███▋      | 364/1000 [01:58<03:27,  3.07it/s]"
     ]
    },
    {
     "name": "stdout",
     "output_type": "stream",
     "text": [
      "Error...\n"
     ]
    },
    {
     "name": "stderr",
     "output_type": "stream",
     "text": [
      " 91%|█████████ | 909/1000 [04:33<00:27,  3.32it/s]"
     ]
    }
   ],
   "source": [
    "from SafeCV_dev import *\n",
    "\n",
    "\n",
    "def red_manip(p, e):\n",
    "    return [0, 0, 255]\n",
    "def green_manip(p, e):\n",
    "    return [0, 255, 0]\n",
    "\n",
    "L0_sevs = []\n",
    "L1_sevs = []\n",
    "L2_sevs = []\n",
    "\n",
    "for i in trange(1,1001):\n",
    "    img = test_features[i].astype('uint8')\n",
    "    cls = int(test_labels[i])\n",
    "    \n",
    "    plt.imshow(cv2.cvtColor(img, cv2.COLOR_BGR2RGB))\n",
    "    plt.savefig(\"Nexar-Orig/Nexar-%s.jpg\"%(i))\n",
    "    plt.clf()\n",
    "    \n",
    "    prob = model.predict(img.reshape(1,112,112,3))\n",
    "    new_class = np.argmax(prob[0])\n",
    "    new_prob = prob[0][np.argmax(prob)]\n",
    "    \n",
    "    if(new_class != cls):\n",
    "        L0_sevs.append(0)\n",
    "        L1_sevs.append(0)\n",
    "        L2_sevs.append(0)\n",
    "        continue\n",
    "    \n",
    "    params_for_run = MCTS_Parameters(img, cls, model, predshape=(1,112,112,3))\n",
    "    params_for_run.verbose = False\n",
    "    params_for_run.simulations_cutoff = 100\n",
    "    params_for_run.backtracking_constant = 10\n",
    "    params_for_run.X_SHAPE = 112\n",
    "    params_for_run.Y_SHAPE = 112\n",
    "    params_for_run.VISIT_CONSTANT = 1\n",
    "    params_for_run.SIGMA_CONSTNAT = 1\n",
    "    params_for_run.simulations_cutoff = 10\n",
    "    #params_for_run.target_class = 1\n",
    "    if(cls == 0):\n",
    "        params_for_run.MANIP = red_manip\n",
    "    if(cls == 1):\n",
    "        params_for_run.MANIP = green_manip\n",
    "    if(cls == 2):\n",
    "        params_for_run.MANIP = red_manip\n",
    "    try:    \n",
    "        best_image, sev, prob, statistics = MCTS(params_for_run)\n",
    "        L0_sevs.append(sev[0])\n",
    "        L1_sevs.append(sev[1])\n",
    "        L2_sevs.append(sev[2])\n",
    "        log_image(best_image, sev, prob, statistics, i, int(test_labels[i]))\n",
    "    except:\n",
    "        print(\"Error...\")"
   ]
  },
  {
   "cell_type": "code",
   "execution_count": null,
   "metadata": {},
   "outputs": [],
   "source": [
    "import copy\n",
    "from copy import deepcopy\n",
    "\n",
    "lzeros = deepcopy(L0_sevs)\n",
    "lones = deepcopy(L1_sevs)\n",
    "ltwos = deepcopy(L2_sevs)"
   ]
  },
  {
   "cell_type": "code",
   "execution_count": null,
   "metadata": {},
   "outputs": [],
   "source": [
    "lzeros = sorted(lzeros)\n",
    "lones = sorted(lones)\n",
    "ltwos = sorted(ltwos)\n",
    "\n",
    "print(\"L0 Average: %s\"%(np.average(lzeros)))\n",
    "plt.clf()\n",
    "a, = plt.plot(lzeros, label=\"L0 found per image\")\n",
    "plt.title(\"Nexar L0 MCTS Statisitcs\")\n",
    "plt.xlabel(\"Image Instance\")\n",
    "plt.ylabel(\"L0 Severity\")\n",
    "plt.legend(handles=[a], loc='center left', bbox_to_anchor=(1, 0.5))\n",
    "plt.show()\n",
    "\n",
    "print(\"L1 Average: %s\"%(np.average(lones)))\n",
    "plt.clf()\n",
    "a, = plt.plot(lones, label=\"L1 found per image\")\n",
    "plt.title(\"Nexar L1 MCTS Statisitcs\")\n",
    "plt.xlabel(\"Image Instance\")\n",
    "plt.ylabel(\"L1 Severity\")\n",
    "plt.legend(handles=[a], loc='center left', bbox_to_anchor=(1, 0.5))\n",
    "plt.show()\n",
    "\n",
    "print(\"L2 Average: %s\"%(np.average(ltwos)))\n",
    "plt.clf()\n",
    "a, = plt.plot(ltwos, label=\"L2 found per image\")\n",
    "plt.title(\"Nexar L2 MCTS Statisitcs\")\n",
    "plt.xlabel(\"Image Instance\")\n",
    "plt.ylabel(\"L2 Severity\")\n",
    "plt.legend(handles=[a], loc='center left', bbox_to_anchor=(1, 0.5))\n",
    "plt.show()"
   ]
  },
  {
   "cell_type": "code",
   "execution_count": null,
   "metadata": {},
   "outputs": [],
   "source": [
    "misclassed = 0\n",
    "for i in trange(1,1001):\n",
    "    img = test_features[i].astype('uint8')\n",
    "    cls = int(test_labels[i])\n",
    "    \n",
    "    prob = model.predict(img.reshape(1,112,112,3))\n",
    "    new_class = np.argmax(prob[0])\n",
    "    new_prob = prob[0][np.argmax(prob)]\n",
    "    \n",
    "    if(new_class != cls):\n",
    "        #print(\"MISCLASSIFIED\")\n",
    "        misclassed += 1\n",
    "print(misclassed)"
   ]
  }
 ],
 "metadata": {
  "kernelspec": {
   "display_name": "Python 2",
   "language": "python",
   "name": "python2"
  },
  "language_info": {
   "codemirror_mode": {
    "name": "ipython",
    "version": 2
   },
   "file_extension": ".py",
   "mimetype": "text/x-python",
   "name": "python",
   "nbconvert_exporter": "python",
   "pygments_lexer": "ipython2",
   "version": "2.7.12"
  }
 },
 "nbformat": 4,
 "nbformat_minor": 2
}
